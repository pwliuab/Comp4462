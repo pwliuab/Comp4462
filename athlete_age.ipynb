{
 "cells": [
  {
   "cell_type": "code",
   "execution_count": 5,
   "metadata": {},
   "outputs": [],
   "source": [
    "import pandas as pd\n",
    "import numpy as np"
   ]
  },
  {
   "cell_type": "code",
   "execution_count": 16,
   "metadata": {},
   "outputs": [
    {
     "name": "stdout",
     "output_type": "stream",
     "text": [
      "           Sport   Age\n",
      "0     Basketball  24.0\n",
      "1           Judo  23.0\n",
      "2       Football  24.0\n",
      "3     Tug-Of-War  34.0\n",
      "4  Speed Skating  21.0\n"
     ]
    }
   ],
   "source": [
    "df = pd.read_csv('C:/Users/LV/Desktop/athlete_age.csv')\n",
    "pd.options.display.max_columns = None\n",
    "print(df.head())"
   ]
  },
  {
   "cell_type": "code",
   "execution_count": 17,
   "metadata": {},
   "outputs": [
    {
     "name": "stdout",
     "output_type": "stream",
     "text": [
      "              Sport   Age\n",
      "271111         Luge  29.0\n",
      "271112  Ski Jumping  27.0\n",
      "271113  Ski Jumping  27.0\n",
      "271114    Bobsleigh  30.0\n",
      "271115    Bobsleigh  34.0\n"
     ]
    }
   ],
   "source": [
    "print(df.tail())"
   ]
  },
  {
   "cell_type": "code",
   "execution_count": 38,
   "metadata": {},
   "outputs": [
    {
     "data": {
      "text/plain": [
       "Sport\n",
       "Aeronautics                  26.000000\n",
       "Alpine Skiing                23.205462\n",
       "Alpinism                     38.812500\n",
       "Archery                      27.935226\n",
       "Art Competitions             45.901009\n",
       "Athletics                    25.161223\n",
       "Badminton                    25.671242\n",
       "Baseball                     26.240761\n",
       "Basketball                   25.324598\n",
       "Basque Pelota                26.000000\n",
       "Beach Volleyball             29.122340\n",
       "Biathlon                     26.532911\n",
       "Bobsleigh                    29.110181\n",
       "Boxing                       23.054809\n",
       "Canoeing                     25.504400\n",
       "Cricket                      29.333333\n",
       "Croquet                      33.733333\n",
       "Cross Country Skiing         26.006155\n",
       "Curling                      31.412527\n",
       "Cycling                      24.773991\n",
       "Diving                       22.481441\n",
       "Equestrianism                34.390831\n",
       "Fencing                      28.538822\n",
       "Figure Skating               22.232190\n",
       "Football                     23.693250\n",
       "Freestyle Skiing             24.426894\n",
       "Golf                         29.408511\n",
       "Gymnastics                   22.733038\n",
       "Handball                     26.308010\n",
       "Hockey                       25.716862\n",
       "Ice Hockey                   25.831420\n",
       "Jeu De Paume                 32.454545\n",
       "Judo                         25.329524\n",
       "Lacrosse                     26.861111\n",
       "Luge                         24.626269\n",
       "Military Ski Patrol          23.736842\n",
       "Modern Pentathlon            26.388547\n",
       "Motorboating                 33.333333\n",
       "Nordic Combined              24.342322\n",
       "Polo                         35.333333\n",
       "Racquets                     28.666667\n",
       "Rhythmic Gymnastics          18.737082\n",
       "Roque                        53.333333\n",
       "Rowing                       25.276294\n",
       "Rugby                        24.385965\n",
       "Rugby Sevens                 26.046823\n",
       "Sailing                      30.288843\n",
       "Shooting                     33.422226\n",
       "Short Track Speed Skating    22.804433\n",
       "Skeleton                     29.832487\n",
       "Ski Jumping                  23.347298\n",
       "Snowboarding                 24.825855\n",
       "Softball                     26.299163\n",
       "Speed Skating                24.303540\n",
       "Swimming                     20.566803\n",
       "Synchronized Swimming        22.366851\n",
       "Table Tennis                 26.462526\n",
       "Taekwondo                    24.056106\n",
       "Tennis                       25.851351\n",
       "Trampolining                 25.138158\n",
       "Name: Age, dtype: float64"
      ]
     },
     "execution_count": 38,
     "metadata": {},
     "output_type": "execute_result"
    }
   ],
   "source": [
    "pd.set_option('display.max_columns', None)\n",
    "from IPython.display import display\n",
    "mean_df = df.groupby('Sport')['Age'].mean()\n",
    "max_df = df.groupby('Sport')['Age'].max()\n",
    "min_df = df.groupby('Sport')['Age'].min()\n",
    "pd.set_option('max_columns', 1000)\n",
    "mean_df.head(60)"
   ]
  },
  {
   "cell_type": "code",
   "execution_count": 39,
   "metadata": {},
   "outputs": [
    {
     "data": {
      "text/plain": [
       "Sport\n",
       "Table Tennis     26.462526\n",
       "Taekwondo        24.056106\n",
       "Tennis           25.851351\n",
       "Trampolining     25.138158\n",
       "Triathlon        27.871456\n",
       "Tug-Of-War       29.309524\n",
       "Volleyball       25.183800\n",
       "Water Polo       25.659627\n",
       "Weightlifting    25.502010\n",
       "Wrestling        25.798289\n",
       "Name: Age, dtype: float64"
      ]
     },
     "execution_count": 39,
     "metadata": {},
     "output_type": "execute_result"
    }
   ],
   "source": [
    "mean_df.tail(10)"
   ]
  },
  {
   "cell_type": "code",
   "execution_count": 40,
   "metadata": {},
   "outputs": [
    {
     "data": {
      "text/plain": [
       "Sport\n",
       "Aeronautics                  26.0\n",
       "Alpine Skiing                55.0\n",
       "Alpinism                     57.0\n",
       "Archery                      71.0\n",
       "Art Competitions             97.0\n",
       "Athletics                    52.0\n",
       "Badminton                    44.0\n",
       "Baseball                     44.0\n",
       "Basketball                   40.0\n",
       "Basque Pelota                26.0\n",
       "Beach Volleyball             41.0\n",
       "Biathlon                     45.0\n",
       "Bobsleigh                    54.0\n",
       "Boxing                       41.0\n",
       "Canoeing                     48.0\n",
       "Cricket                      44.0\n",
       "Croquet                      58.0\n",
       "Cross Country Skiing         49.0\n",
       "Curling                      58.0\n",
       "Cycling                      49.0\n",
       "Diving                       51.0\n",
       "Equestrianism                72.0\n",
       "Fencing                      63.0\n",
       "Figure Skating               52.0\n",
       "Football                     40.0\n",
       "Freestyle Skiing             44.0\n",
       "Golf                         50.0\n",
       "Gymnastics                   49.0\n",
       "Handball                     43.0\n",
       "Hockey                       44.0\n",
       "Ice Hockey                   48.0\n",
       "Jeu De Paume                 43.0\n",
       "Judo                         43.0\n",
       "Lacrosse                     37.0\n",
       "Luge                         53.0\n",
       "Military Ski Patrol          32.0\n",
       "Modern Pentathlon            53.0\n",
       "Motorboating                 54.0\n",
       "Nordic Combined              39.0\n",
       "Polo                         53.0\n",
       "Racquets                     45.0\n",
       "Rhythmic Gymnastics          30.0\n",
       "Roque                        64.0\n",
       "Rowing                       60.0\n",
       "Rugby                        39.0\n",
       "Rugby Sevens                 36.0\n",
       "Sailing                      71.0\n",
       "Shooting                     72.0\n",
       "Short Track Speed Skating    35.0\n",
       "Skeleton                     53.0\n",
       "Ski Jumping                  43.0\n",
       "Snowboarding                 40.0\n",
       "Softball                     41.0\n",
       "Speed Skating                52.0\n",
       "Swimming                     46.0\n",
       "Synchronized Swimming        40.0\n",
       "Table Tennis                 54.0\n",
       "Taekwondo                    37.0\n",
       "Tennis                       47.0\n",
       "Trampolining                 39.0\n",
       "Name: Age, dtype: float64"
      ]
     },
     "execution_count": 40,
     "metadata": {},
     "output_type": "execute_result"
    }
   ],
   "source": [
    "max_df.head(60)"
   ]
  },
  {
   "cell_type": "code",
   "execution_count": 41,
   "metadata": {},
   "outputs": [
    {
     "data": {
      "text/plain": [
       "Sport\n",
       "Table Tennis     54.0\n",
       "Taekwondo        37.0\n",
       "Tennis           47.0\n",
       "Trampolining     39.0\n",
       "Triathlon        42.0\n",
       "Tug-Of-War       45.0\n",
       "Volleyball       41.0\n",
       "Water Polo       45.0\n",
       "Weightlifting    45.0\n",
       "Wrestling        50.0\n",
       "Name: Age, dtype: float64"
      ]
     },
     "execution_count": 41,
     "metadata": {},
     "output_type": "execute_result"
    }
   ],
   "source": [
    "max_df.tail(10)"
   ]
  },
  {
   "cell_type": "code",
   "execution_count": 43,
   "metadata": {},
   "outputs": [
    {
     "data": {
      "text/plain": [
       "Sport\n",
       "Aeronautics                  26.0\n",
       "Alpine Skiing                14.0\n",
       "Alpinism                     22.0\n",
       "Archery                      14.0\n",
       "Art Competitions             14.0\n",
       "Athletics                    12.0\n",
       "Badminton                    16.0\n",
       "Baseball                     16.0\n",
       "Basketball                   16.0\n",
       "Basque Pelota                26.0\n",
       "Beach Volleyball             18.0\n",
       "Biathlon                     17.0\n",
       "Bobsleigh                    15.0\n",
       "Boxing                       15.0\n",
       "Canoeing                     15.0\n",
       "Cricket                      21.0\n",
       "Croquet                      15.0\n",
       "Cross Country Skiing         15.0\n",
       "Curling                      17.0\n",
       "Cycling                      14.0\n",
       "Diving                       12.0\n",
       "Equestrianism                16.0\n",
       "Fencing                      14.0\n",
       "Figure Skating               11.0\n",
       "Football                     15.0\n",
       "Freestyle Skiing             13.0\n",
       "Golf                         15.0\n",
       "Gymnastics                   10.0\n",
       "Handball                     14.0\n",
       "Hockey                       15.0\n",
       "Ice Hockey                   15.0\n",
       "Jeu De Paume                 19.0\n",
       "Judo                         14.0\n",
       "Lacrosse                     14.0\n",
       "Luge                         15.0\n",
       "Military Ski Patrol          20.0\n",
       "Modern Pentathlon            15.0\n",
       "Motorboating                 26.0\n",
       "Nordic Combined              15.0\n",
       "Polo                         21.0\n",
       "Racquets                     19.0\n",
       "Rhythmic Gymnastics          13.0\n",
       "Roque                        37.0\n",
       "Rowing                       11.0\n",
       "Rugby                        18.0\n",
       "Rugby Sevens                 18.0\n",
       "Sailing                      13.0\n",
       "Shooting                     15.0\n",
       "Short Track Speed Skating    13.0\n",
       "Skeleton                     18.0\n",
       "Ski Jumping                  14.0\n",
       "Snowboarding                 14.0\n",
       "Softball                     17.0\n",
       "Speed Skating                13.0\n",
       "Swimming                     11.0\n",
       "Synchronized Swimming        15.0\n",
       "Table Tennis                 15.0\n",
       "Taekwondo                    16.0\n",
       "Tennis                       13.0\n",
       "Trampolining                 18.0\n",
       "Name: Age, dtype: float64"
      ]
     },
     "execution_count": 43,
     "metadata": {},
     "output_type": "execute_result"
    }
   ],
   "source": [
    "min_df.head(60)"
   ]
  },
  {
   "cell_type": "code",
   "execution_count": 44,
   "metadata": {},
   "outputs": [
    {
     "data": {
      "text/plain": [
       "Sport\n",
       "Table Tennis     15.0\n",
       "Taekwondo        16.0\n",
       "Tennis           13.0\n",
       "Trampolining     18.0\n",
       "Triathlon        18.0\n",
       "Tug-Of-War       17.0\n",
       "Volleyball       15.0\n",
       "Water Polo       14.0\n",
       "Weightlifting    15.0\n",
       "Wrestling        15.0\n",
       "Name: Age, dtype: float64"
      ]
     },
     "execution_count": 44,
     "metadata": {},
     "output_type": "execute_result"
    }
   ],
   "source": [
    "min_df.tail(10)"
   ]
  },
  {
   "cell_type": "code",
   "execution_count": 48,
   "metadata": {},
   "outputs": [
    {
     "name": "stdout",
     "output_type": "stream",
     "text": [
      "                                 Age   Age   Age\n",
      "Sport                                           \n",
      "Aeronautics                26.000000  26.0  26.0\n",
      "Alpine Skiing              23.205462  55.0  14.0\n",
      "Alpinism                   38.812500  57.0  22.0\n",
      "Archery                    27.935226  71.0  14.0\n",
      "Art Competitions           45.901009  97.0  14.0\n",
      "Athletics                  25.161223  52.0  12.0\n",
      "Badminton                  25.671242  44.0  16.0\n",
      "Baseball                   26.240761  44.0  16.0\n",
      "Basketball                 25.324598  40.0  16.0\n",
      "Basque Pelota              26.000000  26.0  26.0\n",
      "Beach Volleyball           29.122340  41.0  18.0\n",
      "Biathlon                   26.532911  45.0  17.0\n",
      "Bobsleigh                  29.110181  54.0  15.0\n",
      "Boxing                     23.054809  41.0  15.0\n",
      "Canoeing                   25.504400  48.0  15.0\n",
      "Cricket                    29.333333  44.0  21.0\n",
      "Croquet                    33.733333  58.0  15.0\n",
      "Cross Country Skiing       26.006155  49.0  15.0\n",
      "Curling                    31.412527  58.0  17.0\n",
      "Cycling                    24.773991  49.0  14.0\n",
      "Diving                     22.481441  51.0  12.0\n",
      "Equestrianism              34.390831  72.0  16.0\n",
      "Fencing                    28.538822  63.0  14.0\n",
      "Figure Skating             22.232190  52.0  11.0\n",
      "Football                   23.693250  40.0  15.0\n",
      "Freestyle Skiing           24.426894  44.0  13.0\n",
      "Golf                       29.408511  50.0  15.0\n",
      "Gymnastics                 22.733038  49.0  10.0\n",
      "Handball                   26.308010  43.0  14.0\n",
      "Hockey                     25.716862  44.0  15.0\n",
      "...                              ...   ...   ...\n",
      "Modern Pentathlon          26.388547  53.0  15.0\n",
      "Motorboating               33.333333  54.0  26.0\n",
      "Nordic Combined            24.342322  39.0  15.0\n",
      "Polo                       35.333333  53.0  21.0\n",
      "Racquets                   28.666667  45.0  19.0\n",
      "Rhythmic Gymnastics        18.737082  30.0  13.0\n",
      "Roque                      53.333333  64.0  37.0\n",
      "Rowing                     25.276294  60.0  11.0\n",
      "Rugby                      24.385965  39.0  18.0\n",
      "Rugby Sevens               26.046823  36.0  18.0\n",
      "Sailing                    30.288843  71.0  13.0\n",
      "Shooting                   33.422226  72.0  15.0\n",
      "Short Track Speed Skating  22.804433  35.0  13.0\n",
      "Skeleton                   29.832487  53.0  18.0\n",
      "Ski Jumping                23.347298  43.0  14.0\n",
      "Snowboarding               24.825855  40.0  14.0\n",
      "Softball                   26.299163  41.0  17.0\n",
      "Speed Skating              24.303540  52.0  13.0\n",
      "Swimming                   20.566803  46.0  11.0\n",
      "Synchronized Swimming      22.366851  40.0  15.0\n",
      "Table Tennis               26.462526  54.0  15.0\n",
      "Taekwondo                  24.056106  37.0  16.0\n",
      "Tennis                     25.851351  47.0  13.0\n",
      "Trampolining               25.138158  39.0  18.0\n",
      "Triathlon                  27.871456  42.0  18.0\n",
      "Tug-Of-War                 29.309524  45.0  17.0\n",
      "Volleyball                 25.183800  41.0  15.0\n",
      "Water Polo                 25.659627  45.0  14.0\n",
      "Weightlifting              25.502010  45.0  15.0\n",
      "Wrestling                  25.798289  50.0  15.0\n",
      "\n",
      "[66 rows x 3 columns]\n"
     ]
    }
   ],
   "source": [
    "join_df = pd.concat([mean_df, max_df], axis = 1, join_axes = [mean_df.index])\n",
    "result = pd.concat([join_df, min_df], axis = 1, join_axes = [join_df.index])\n",
    "print(result)"
   ]
  },
  {
   "cell_type": "code",
   "execution_count": 49,
   "metadata": {},
   "outputs": [],
   "source": [
    "result.to_csv('C:/Users/LV/Desktop/result.csv')"
   ]
  }
 ],
 "metadata": {
  "kernelspec": {
   "display_name": "Python 3",
   "language": "python",
   "name": "python3"
  },
  "language_info": {
   "codemirror_mode": {
    "name": "ipython",
    "version": 3
   },
   "file_extension": ".py",
   "mimetype": "text/x-python",
   "name": "python",
   "nbconvert_exporter": "python",
   "pygments_lexer": "ipython3",
   "version": "3.7.3"
  }
 },
 "nbformat": 4,
 "nbformat_minor": 2
}
